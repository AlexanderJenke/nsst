{
 "cells": [
  {
   "cell_type": "code",
   "execution_count": null,
   "metadata": {
    "collapsed": true
   },
   "outputs": [],
   "source": [
    "import hmmlearn\n",
    "from hmmlearn import base\n",
    "from HMM import MultiThreadFit\n",
    "import pickle\n",
    "import numpy as np\n",
    "from tqdm import tqdm\n",
    "import europarl_dataloader as e_dl\n",
    "from hmm_training import TbXMonitor\n",
    "import sys"
   ]
  },
  {
   "cell_type": "code",
   "execution_count": null,
   "outputs": [],
   "source": [
    "DATASET_PATH = \"output/europarl-v7.de-en.de.clean\"\n",
    "TRAIN_STEP_SIZE = 20\n",
    "THRESHOLD = 4\n",
    "MODEL_PATH = \"output/tss20_th4_nSt200_nIt101.pkl\""
   ],
   "metadata": {
    "collapsed": false,
    "pycharm": {
     "name": "#%%\n"
    }
   }
  },
  {
   "cell_type": "code",
   "execution_count": null,
   "outputs": [],
   "source": [
    "print(MODEL_PATH)\n",
    "lines = e_dl.load_clean_dataset(DATASET_PATH)\n",
    "testLines = lines[:4096]\n",
    "trainLines = lines[4096::TRAIN_STEP_SIZE]\n",
    "del lines\n",
    "\n",
    "trainWordcount = e_dl.count_words(trainLines)\n",
    "testWordcount = e_dl.count_words(testLines)\n",
    "trainAlphabet = e_dl.create_alphabet(trainWordcount, threshold=THRESHOLD)\n",
    "testAlphabet = e_dl.create_test_alphabet(trainAlphabet, testWordcount)"
   ],
   "metadata": {
    "collapsed": false,
    "pycharm": {
     "name": "#%%\n"
    }
   }
  },
  {
   "cell_type": "code",
   "execution_count": null,
   "outputs": [],
   "source": [
    "# prepare tokens\n",
    "# lines_X = [[[trainAlphabet[word]] for word in line if len(word)]\n",
    "#            for line in tqdm(trainLines, desc=\"trainTokenSet\") if\n",
    "#            len(line) > 1 or (len(line) == 1 and len(line[0]))]\n",
    "# len_X = [len(line) for line in lines_X]\n",
    "# X = np.concatenate(lines_X)\n",
    "# del trainLines  # free space\n",
    "\n",
    "lines_Y = [[[testAlphabet[word]] for word in line if len(word)]\n",
    "           for line in tqdm(testLines, desc=\"testTokenSet\") if\n",
    "           len(line) > 1 or (len(line) == 1 and len(line[0]))]\n",
    "len_Y = [len(line) for line in lines_Y]\n",
    "Y = np.concatenate(lines_Y)\n",
    "del testLines  # free space"
   ],
   "metadata": {
    "collapsed": false,
    "pycharm": {
     "name": "#%%\n"
    }
   }
  },
  {
   "cell_type": "code",
   "execution_count": null,
   "outputs": [],
   "source": [
    "with open(MODEL_PATH, 'rb') as file:\n",
    "    model = pickle.load(file)\n",
    "\"\"\" :type model: MultiThreadFit\"\"\"\n",
    "\n",
    "model.transmat_orig = model.transmat_.copy()\n",
    "model.startprob_orig = model.startprob_.copy()\n",
    "model.emissionprob_orig = model.emissionprob_.copy()"
   ],
   "metadata": {
    "collapsed": false,
    "pycharm": {
     "name": "#%%\n"
    }
   }
  },
  {
   "cell_type": "code",
   "execution_count": null,
   "outputs": [],
   "source": [
    "print(model.score(Y, len_Y))"
   ],
   "metadata": {
    "collapsed": false,
    "pycharm": {
     "name": "#%%\n"
    }
   }
  },
  {
   "cell_type": "code",
   "execution_count": null,
   "outputs": [],
   "source": [
    "print(f\"Max Thresholds:\\ntransmat_ {model.transmat_orig.max(axis=0).min()}\\nemissionprob_ {model.emissionprob_orig.max(axis=0).min()}\")"
   ],
   "metadata": {
    "collapsed": false,
    "pycharm": {
     "name": "#%%\n"
    }
   }
  },
  {
   "cell_type": "code",
   "execution_count": null,
   "outputs": [],
   "source": [
    "transmat_th = model.transmat_orig.max(axis=0).min() * 0.1\n",
    "model.transmat_ = model.transmat_orig.copy()\n",
    "model.transmat_[model.transmat_orig < transmat_th] = 0\n",
    "# model.transmat_ = model.transmat_ ** 0.5\n",
    "for i in range(model.transmat_.shape[0]):\n",
    "    model.transmat_[i,:] /= model.transmat_[i,:].sum()\n",
    "\n",
    "import matplotlib.pyplot as plt\n",
    "plt.title(\"orig\")\n",
    "plt.imshow(model.transmat_orig)\n",
    "plt.colorbar()\n",
    "plt.show()\n",
    "\n",
    "plt.title(\"red\")\n",
    "plt.imshow(model.transmat_)\n",
    "plt.colorbar()\n",
    "plt.show()\n",
    "\n",
    "plt.title(\"diff\")\n",
    "plt.imshow(model.transmat_- model.transmat_orig)\n",
    "plt.colorbar()\n",
    "plt.show()\n",
    "        "
   ],
   "metadata": {
    "collapsed": false,
    "pycharm": {
     "name": "#%%\n"
    }
   }
  },
  {
   "cell_type": "code",
   "execution_count": null,
   "outputs": [],
   "source": [
    "startprob_th = model.startprob_orig.max() * 0.1\n",
    "model.startprob_ = model.startprob_orig.copy()\n",
    "model.startprob_[model.startprob_orig < startprob_th] = 0\n",
    "# model.startprob_ = model.startprob_** 0.5\n",
    "model.startprob_ /= model.startprob_.sum()"
   ],
   "metadata": {
    "collapsed": false,
    "pycharm": {
     "name": "#%%\n"
    }
   }
  },
  {
   "cell_type": "code",
   "execution_count": null,
   "outputs": [],
   "source": [
    "emissionprob_th = model.emissionprob_orig.max(axis=0).min() * 0.1\n",
    "model.emissionprob_ = model.emissionprob_orig.copy()\n",
    "model.emissionprob_[model.emissionprob_orig < emissionprob_th] = 0\n",
    "# model.emissionprob_ = model.emissionprob_ ** 0.5\n",
    "for i in range(model.emissionprob_.shape[0]):\n",
    "    model.emissionprob_[i,:] /= model.emissionprob_[i,:].sum()"
   ],
   "metadata": {
    "collapsed": false,
    "pycharm": {
     "name": "#%%\n"
    }
   }
  },
  {
   "cell_type": "code",
   "execution_count": null,
   "outputs": [],
   "source": [
    "print(model.score(Y, len_Y))"
   ],
   "metadata": {
    "collapsed": false,
    "pycharm": {
     "name": "#%%\n"
    }
   }
  },
  {
   "cell_type": "code",
   "execution_count": null,
   "outputs": [],
   "source": [
    "\n"
   ],
   "metadata": {
    "collapsed": false,
    "pycharm": {
     "name": "#%%\n"
    }
   }
  }
 ],
 "metadata": {
  "kernelspec": {
   "display_name": "Python 3",
   "language": "python",
   "name": "python3"
  },
  "language_info": {
   "codemirror_mode": {
    "name": "ipython",
    "version": 2
   },
   "file_extension": ".py",
   "mimetype": "text/x-python",
   "name": "python",
   "nbconvert_exporter": "python",
   "pygments_lexer": "ipython2",
   "version": "2.7.6"
  }
 },
 "nbformat": 4,
 "nbformat_minor": 0
}
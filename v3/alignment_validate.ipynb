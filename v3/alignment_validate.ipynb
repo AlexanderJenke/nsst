{
 "cells": [
  {
   "cell_type": "code",
   "execution_count": 1,
   "metadata": {
    "collapsed": true,
    "pycharm": {
     "is_executing": false
    }
   },
   "outputs": [],
   "source": [
    "source_lang = \"output/europarl-v7.de-en.de.clean\"\n",
    "target_lang = \"output/europarl-v7.de-en.en.clean\"\n",
    "paired_file = \"output/europarl-v7.de-en.paired\"\n",
    "\n",
    "forward = \"output/forward.N.align\"\n",
    "reverse = \"output/reverse.N.align\"\n",
    "combined = \"output/grow-diag-final-and.N.align\""
   ]
  },
  {
   "cell_type": "code",
   "execution_count": 2,
   "outputs": [
    {
     "name": "stdout",
     "text": [
      "1881538/1908911 = 98.57%\n"
     ],
     "output_type": "stream"
    }
   ],
   "source": [
    "count = 0\n",
    "all = 0\n",
    "with open(forward, \"r\") as fwd:\n",
    "    with open(reverse, \"r\") as rvs:\n",
    "        for i,j in zip(fwd, rvs):\n",
    "            all += 1\n",
    "            if i != j:\n",
    "                count +=1\n",
    "print(f\"{count}/{all} = {count/all*100 :.2f}%\")"
   ],
   "metadata": {
    "collapsed": false,
    "pycharm": {
     "name": "#%%\n",
     "is_executing": false
    }
   }
  },
  {
   "cell_type": "code",
   "execution_count": 4,
   "outputs": [
    {
     "name": "stderr",
     "text": [
      "1908911it [01:08, 28053.51it/s]\n"
     ],
     "output_type": "stream"
    },
    {
     "name": "stdout",
     "text": [
      "0 lines are not total\n"
     ],
     "output_type": "stream"
    }
   ],
   "source": [
    "from tqdm import tqdm\n",
    "count = 0\n",
    "with open(paired_file, \"r\") as paired:\n",
    "    with open(forward, \"r\") as align:\n",
    "        for a, pair in tqdm(zip(align, paired)):\n",
    "            lines = pair[:-1].split(\" ||| \")\n",
    "            line = lines[1].split(\" \")\n",
    "            if len(a[:-1]) == 0:\n",
    "                continue\n",
    "            len_s = len([word for word in line if len(word) and len(line) > 1 or (len(line) == 1 and len(line[0]))])\n",
    "            pairs = [p.split(\"-\") for p in a[:-1].split(\" \")]\n",
    "            missing = set(range(len_s)) - set([int(p[1]) for p in pairs])\n",
    "            if len(missing):\n",
    "                count += 1\n",
    "                print(a)\n",
    "                print(missing)\n",
    "                print(line)\n",
    "                print(\"\")\n",
    "    print(f\"{count} lines are not total\")"
   ],
   "metadata": {
    "collapsed": false,
    "pycharm": {
     "name": "#%%\n",
     "is_executing": false
    }
   }
  }
 ],
 "metadata": {
  "kernelspec": {
   "display_name": "Python 3",
   "language": "python",
   "name": "python3"
  },
  "language_info": {
   "codemirror_mode": {
    "name": "ipython",
    "version": 2
   },
   "file_extension": ".py",
   "mimetype": "text/x-python",
   "name": "python",
   "nbconvert_exporter": "python",
   "pygments_lexer": "ipython2",
   "version": "2.7.6"
  },
  "pycharm": {
   "stem_cell": {
    "cell_type": "raw",
    "source": [],
    "metadata": {
     "collapsed": false
    }
   }
  }
 },
 "nbformat": 4,
 "nbformat_minor": 0
}